{
 "cells": [
  {
   "cell_type": "markdown",
   "metadata": {},
   "source": [
    "## Advanced Lane Finding Project\n",
    "\n",
    "The goals / steps of this project are the following:\n",
    "\n",
    "* Compute the camera calibration matrix and distortion coefficients given a set of chessboard images.\n",
    "* Apply a distortion correction to raw images.\n",
    "* Use color transforms, gradients, etc., to create a thresholded binary image.\n",
    "* Apply a perspective transform to rectify binary image (\"birds-eye view\").\n",
    "* Detect lane pixels and fit to find the lane boundary.\n",
    "* Determine the curvature of the lane and vehicle position with respect to center.\n",
    "* Warp the detected lane boundaries back onto the original image.\n",
    "* Output visual display of the lane boundaries and numerical estimation of lane curvature and vehicle position.\n",
    "\n",
    "---\n",
    "## First, I'll compute the camera calibration using chessboard images"
   ]
  },
  {
   "cell_type": "code",
   "execution_count": 8,
   "metadata": {},
   "outputs": [
    {
     "name": "stdout",
     "output_type": "stream",
     "text": [
      "Using matplotlib backend: Qt4Agg\n"
     ]
    }
   ],
   "source": [
    "import os\n",
    "import numpy as np\n",
    "import cv2\n",
    "import glob\n",
    "import matplotlib.image as mpimg\n",
    "import matplotlib.pyplot as plt\n",
    "%matplotlib auto\n",
    "\n",
    "# prepare object points, like (0,0,0), (1,0,0), (2,0,0) ....,(6,5,0)\n",
    "# x axis 9 pionts, y axis 6 points, scan from x axis, one piont by one piont\n",
    "objp = np.zeros((6*9,3), np.float32)\n",
    "objp[:,:2] = np.mgrid[0:9,0:6].T.reshape(-1,2)\n",
    "# print(objp)\n",
    "\n",
    "# Arrays to store object points and image points from all the images.\n",
    "objpoints = [] # 3d points in real world space\n",
    "imgpoints = [] # 2d points in image plane.\n",
    "\n",
    "# Make a list of calibration images\n",
    "images = glob.glob('camera_cal/calibration*.jpg')\n",
    "# print(images)\n",
    "\n",
    "# Step through the list and search for chessboard corners\n",
    "for fname in images:\n",
    "    img = cv2.imread(fname)\n",
    "    gray = cv2.cvtColor(img,cv2.COLOR_BGR2GRAY)\n",
    "\n",
    "    # Find the chessboard corners\n",
    "    ret, corners = cv2.findChessboardCorners(gray, (9,6),None)  # corners are 9 x 6 = 54 coordinates\n",
    "\n",
    "    # If found, add object points, image points\n",
    "    if ret == True:\n",
    "        objpoints.append(objp)\n",
    "        imgpoints.append(corners)\n",
    "\n",
    "        # Draw and display the corners\n",
    "        img = cv2.drawChessboardCorners(img, (9,6), corners, ret)   #draw corners in orgnial input image\n",
    "        cv2.imshow('img',img)\n",
    "        cv2.waitKey(400)     # if pass parameter 500, wait for 500ms; if leave blank, wait for any key input\n",
    "\n",
    "cv2.destroyAllWindows()      # when display all images, destroy all windows\n",
    "\n",
    "ret, mtx, dist, rvecs, tvecs = cv2.calibrateCamera(objpoints, imgpoints, \n",
    "                                            gray.shape[::-1], None, None)"
   ]
  },
  {
   "cell_type": "code",
   "execution_count": 9,
   "metadata": {},
   "outputs": [
    {
     "name": "stdout",
     "output_type": "stream",
     "text": [
      "Using matplotlib backend: Qt4Agg\n"
     ]
    }
   ],
   "source": [
    "%matplotlib auto\n",
    "# pick a camera calibration image and undistorted it.\n",
    "img = cv2.imread('camera_cal/calibration1.jpg')\n",
    "undist = cv2.undistort(img, mtx, dist, None, mtx)\n",
    "\n",
    "f, (ax1, ax2) = plt.subplots(1, 2, figsize=(24, 9))\n",
    "# f.tight_layout()\n",
    "ax1.imshow(img)\n",
    "ax1.set_title('Original Image')\n",
    "ax2.imshow(undist)\n",
    "ax2.set_title('Undistorted Image')\n",
    "plt.subplots_adjust(left=0., right=1, top=0.9, bottom=0.)"
   ]
  },
  {
   "cell_type": "markdown",
   "metadata": {},
   "source": [
    "## Apply a distortion correction to raw images."
   ]
  },
  {
   "cell_type": "code",
   "execution_count": 10,
   "metadata": {},
   "outputs": [],
   "source": [
    "import matplotlib.image as mpimg\n",
    "# undistort test image and write to output_images folder\n",
    "if not os.path.exists('output_images'):\n",
    "    output_path = 'output_images'\n",
    "    for img_name in glob.glob('test_images/*.jpg'):\n",
    "        img = cv2.imread(img_name)\n",
    "        undist = cv2.undistort(img, mtx, dist, None, mtx)\n",
    "        # print(output_path+'/'+img_name.split('/')[1])\n",
    "        cv2.imwrite(output_path+'/'+img_name.split('/')[1],undist)\n",
    "    \n",
    "# pick a undistorted output image,display it\n",
    "img = mpimg.imread('test_images/test1.jpg')\n",
    "undist = mpimg.imread('output_images/test1.jpg')\n",
    "\n",
    "f, (ax1, ax2) = plt.subplots(1, 2, figsize=(24, 9))\n",
    "# f.tight_layout()\n",
    "ax1.imshow(img)\n",
    "ax1.set_title('Original Image')\n",
    "ax2.imshow(undist)\n",
    "ax2.set_title('Undistorted Image')\n",
    "plt.subplots_adjust(left=0.02, right=1, top=0.9, bottom=0.)"
   ]
  },
  {
   "cell_type": "markdown",
   "metadata": {},
   "source": [
    "## Use color transforms, gradients, etc., to create a thresholded binary image."
   ]
  },
  {
   "cell_type": "code",
   "execution_count": 11,
   "metadata": {},
   "outputs": [],
   "source": [
    "# define color and x-gradient filter\n",
    "def image_filter(img, s_thresh=(180, 255), sx_thresh=(20, 100)):\n",
    "    img = np.copy(img)\n",
    "    # Convert to HLS color space and separate the V channel\n",
    "    # gray = cv2.cvtColor(img, cv2.COLOR_RGB2GRAY)\n",
    "    hls = cv2.cvtColor(img, cv2.COLOR_RGB2HLS)\n",
    "    h_channel = hls[:,:,0]\n",
    "    l_channel = hls[:,:,1]\n",
    "    s_channel = hls[:,:,2]\n",
    "    # Sobel x\n",
    "    sobelx = cv2.Sobel(l_channel, cv2.CV_64F, 1, 0) # Take the derivative in x\n",
    "    abs_sobelx = np.absolute(sobelx) # Absolute x derivative to accentuate lines away from horizontal\n",
    "    scaled_sobel = np.uint8(255*abs_sobelx/np.max(abs_sobelx))\n",
    "    \n",
    "    # Threshold x gradient\n",
    "    sxbinary = np.zeros_like(scaled_sobel)\n",
    "    sxbinary[(scaled_sobel >= sx_thresh[0]) & (scaled_sobel <= sx_thresh[1])] = 1\n",
    "    \n",
    "    # Threshold color channel\n",
    "    s_th = (s_channel >= s_thresh[0]) & (s_channel <= s_thresh[1])\n",
    "    h_th = (h_channel > 20) & (h_channel < 40)\n",
    "    s_binary = np.zeros_like(s_channel)\n",
    "    s_binary[s_th & h_th] = 1\n",
    "    #s_binary[(s_channel >= s_thresh[0]) & (s_channel <= s_thresh[1])] = 1\n",
    "    # Stack each channel\n",
    "    color_binary = np.dstack(( np.zeros_like(sxbinary), sxbinary, s_binary)) * 255\n",
    "    return color_binary\n",
    "\n",
    "undist = mpimg.imread('output_images/test1.jpg')\n",
    "filtered = image_filter(undist)\n",
    "# Plot the result\n",
    "f, (ax1, ax2) = plt.subplots(1, 2, figsize=(24, 9))\n",
    "f.tight_layout()\n",
    "\n",
    "ax1.imshow(img)\n",
    "ax1.set_title('Undistorted Image', fontsize=40)\n",
    "\n",
    "ax2.imshow(filtered)\n",
    "ax2.set_title('Filtered Image', fontsize=40)\n",
    "plt.subplots_adjust(left=0.02, right=1, top=0.9, bottom=0.)"
   ]
  },
  {
   "cell_type": "markdown",
   "metadata": {},
   "source": [
    "## Apply a perspective transform to rectify binary image (\"birds-eye view\")."
   ]
  },
  {
   "cell_type": "code",
   "execution_count": 23,
   "metadata": {},
   "outputs": [
    {
     "name": "stdout",
     "output_type": "stream",
     "text": [
      "pts: \n",
      " [[[ 561  484]]\n",
      "\n",
      " [[ 763  484]]\n",
      "\n",
      " [[1109  694]]\n",
      "\n",
      " [[ 286  694]]]\n",
      "source points selected\n",
      "[[561, 484], [763, 484], [1109, 694], [286, 694]]\n"
     ]
    }
   ],
   "source": [
    "# pick 4 source points and draw onto undistorted image.\n",
    "# use mouse to manually pick\n",
    "undist_temp = cv2.imread('output_images/test1.jpg')\n",
    "test = np.copy(undist_temp)\n",
    "m_x = -1\n",
    "m_y = -1\n",
    "src_points = []\n",
    "drawing = False \n",
    "click = 0\n",
    "line_img = np.zeros_like(test)\n",
    "def on_mouse(event,x,y,flags,param):\n",
    "    global test, m_x,m_y,drawing, click\n",
    "    \n",
    "    if event == cv2.EVENT_LBUTTONDOWN:\n",
    "        # drawing = not drawing\n",
    "        click += 1\n",
    "        drawing = True            \n",
    "        m_x = x\n",
    "        m_y = y\n",
    "        src_points.append([m_x,m_y])\n",
    "        # print('{} Points:({},{})'.format(click,m_x,m_y))\n",
    "        if click == 4:\n",
    "            click = 0\n",
    "            drawing = False\n",
    "            pts = np.copy(src_points)\n",
    "            pts = pts.reshape((-1,1,2))\n",
    "            print('pts: \\n',pts)\n",
    "            test = np.copy(undist_temp)\n",
    "            cv2.polylines(test,[pts],True,(0,0,255),4)\n",
    "            print('source points selected')\n",
    "    elif event==cv2.EVENT_MOUSEMOVE:    # and flags==cv2.EVENT_FLAG_LBUTTON\n",
    "        if drawing:\n",
    "            if click % 2 == 1:\n",
    "                cv2.line(test,(m_x,m_y),(x,m_y),(255,0,0),2)\n",
    "\n",
    "# cv2.imshow('undistorted image',test)\n",
    "cv2.namedWindow('undistorted image')\n",
    "cv2.setMouseCallback('undistorted image',on_mouse)\n",
    "key = 0\n",
    "while (1):\n",
    "    cv2.imshow('undistorted image',test)\n",
    "    key = cv2.waitKey(1)\n",
    "    \n",
    "    if key == 27:\n",
    "        break\n",
    "\n",
    "cv2.destroyAllWindows()\n",
    "print(src_points)"
   ]
  },
  {
   "cell_type": "code",
   "execution_count": 26,
   "metadata": {},
   "outputs": [
    {
     "name": "stdout",
     "output_type": "stream",
     "text": [
      "dst:  [[286, 0], [1109, 0], [1109, 720], [286, 720]]\n"
     ]
    }
   ],
   "source": [
    "# perspective transform\n",
    "# img = mpimg.imread('output_images/test1.jpg')\n",
    "imshape = test.shape\n",
    "h = imshape[0]\n",
    "w = imshape[1]\n",
    "src = [[src_points[0][0]-5,src_points[0][1]-5],\n",
    "       [src_points[1][0]+5,src_points[1][1]-5],\n",
    "       [src_points[2][0]+5,src_points[2][1]+5],\n",
    "       [src_points[3][0]-5,src_points[3][1]+5]]\n",
    "left_x = src_points[3][0]\n",
    "right_x = src_points[2][0]\n",
    "# set dst points as below\n",
    "dst = [[left_x,0],[right_x,0],[right_x, h],[left_x, h]]\n",
    "print('dst: ',dst)\n",
    "# transfer src pionts array\n",
    "src = np.float32(src)\n",
    "dst = np.float32(dst)\n",
    "M = cv2.getPerspectiveTransform(src, dst)\n",
    "warped = cv2.warpPerspective(test, M, (w,h), flags=cv2.INTER_LINEAR)\n",
    "\n",
    "# Plot the result\n",
    "f, (ax1, ax2) = plt.subplots(1, 2, figsize=(24, 9))\n",
    "f.tight_layout()\n",
    "test = cv2.cvtColor(test,cv2.COLOR_BGR2RGB)\n",
    "ax1.imshow(test)\n",
    "ax1.set_title('Undistorted Image', fontsize=40)\n",
    "warped = cv2.cvtColor(warped,cv2.COLOR_BGR2RGB)\n",
    "ax2.imshow(warped)\n",
    "ax2.set_title('Warped Image', fontsize=40)\n",
    "plt.subplots_adjust(left=0.02, right=1.0, top=0.9, bottom=0.)"
   ]
  },
  {
   "cell_type": "markdown",
   "metadata": {},
   "source": [
    "## Detect lane pixels and fit to find the lane boundary."
   ]
  },
  {
   "cell_type": "code",
   "execution_count": null,
   "metadata": {},
   "outputs": [],
   "source": []
  },
  {
   "cell_type": "code",
   "execution_count": null,
   "metadata": {},
   "outputs": [],
   "source": []
  }
 ],
 "metadata": {
  "anaconda-cloud": {},
  "kernelspec": {
   "display_name": "carnd-term1",
   "language": "python",
   "name": "myenv"
  },
  "language_info": {
   "codemirror_mode": {
    "name": "ipython",
    "version": 3
   },
   "file_extension": ".py",
   "mimetype": "text/x-python",
   "name": "python",
   "nbconvert_exporter": "python",
   "pygments_lexer": "ipython3",
   "version": "3.5.2"
  },
  "widgets": {
   "state": {},
   "version": "1.1.2"
  }
 },
 "nbformat": 4,
 "nbformat_minor": 1
}
