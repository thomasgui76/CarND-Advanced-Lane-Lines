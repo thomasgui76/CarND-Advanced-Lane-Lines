{
 "cells": [
  {
   "cell_type": "markdown",
   "metadata": {},
   "source": [
    "## Advanced Lane Finding Project\n",
    "\n",
    "The goals / steps of this project are the following:\n",
    "\n",
    "* Compute the camera calibration matrix and distortion coefficients given a set of chessboard images.\n",
    "* Apply a distortion correction to raw images.\n",
    "* Use color transforms, gradients, etc., to create a thresholded binary image.\n",
    "* Apply a perspective transform to rectify binary image (\"birds-eye view\").\n",
    "* Detect lane pixels and fit to find the lane boundary.\n",
    "* Determine the curvature of the lane and vehicle position with respect to center.\n",
    "* Warp the detected lane boundaries back onto the original image.\n",
    "* Output visual display of the lane boundaries and numerical estimation of lane curvature and vehicle position.\n",
    "\n",
    "---\n",
    "## First, I'll compute the camera calibration using chessboard images"
   ]
  },
  {
   "cell_type": "code",
   "execution_count": 1,
   "metadata": {},
   "outputs": [],
   "source": [
    "import os\n",
    "import numpy as np\n",
    "import cv2\n",
    "import glob\n",
    "import matplotlib.image as mpimg\n",
    "import matplotlib.pyplot as plt\n",
    "%matplotlib inline\n",
    "\n",
    "# Define a class to receive the characteristics of each line detection\n",
    "class Line():\n",
    "    def __init__(self):\n",
    "        # was the line detected in the last iteration?\n",
    "        self.detected = False  \n",
    "        # x values of the last n fits of the line\n",
    "        self.recent_xfitted = [] \n",
    "        #average x values of the fitted line over the last n iterations\n",
    "        self.bestx = None     \n",
    "        #polynomial coefficients averaged over the last n iterations\n",
    "        self.best_fit = None  \n",
    "        #polynomial coefficients for the most recent fit\n",
    "        self.current_fit = [np.array([False])]  \n",
    "        self.current_fitm = [np.array([False])]      # by meters\n",
    "        #radius of curvature of the line in some units\n",
    "        self.radius_of_curvature = None \n",
    "        #distance in meters of vehicle center from the line\n",
    "        self.line_base_pos = None \n",
    "        #difference in fit coefficients between last and new fits\n",
    "        self.diffs = np.array([0,0,0], dtype='float') \n",
    "        #x values for detected line pixels\n",
    "        self.allx = None  \n",
    "        #y values for detected line pixels\n",
    "        self.ally = None\n",
    "        \n",
    "class Lane_param():\n",
    "    def __init__(self):\n",
    "        self.centroid = None        # the midpoint of the two lines of Lane\n",
    "        self.ym_per_pix = None      # y dimension, transfer pix scale to real world meter scale\n",
    "        self.xm_per_pix = None      # x dimension, transfer pix scale to real world meter scale\n",
    "\n",
    "left_line = Line()\n",
    "right_line = Line()\n",
    "lane = Lane_param()\n",
    "\n",
    "# Make a list of calibration images\n",
    "imgfiles = glob.glob('camera_cal/calibration*.jpg')\n",
    "\n",
    "def camera_calibration(imgfiles,display = False):\n",
    "    # prepare object points, like (0,0,0), (1,0,0), (2,0,0) ....,(6,5,0)\n",
    "    # x axis 9 pionts, y axis 6 points, scan from x axis, one piont by one piont\n",
    "    objp = np.zeros((6*9,3), np.float32)\n",
    "    objp[:,:2] = np.mgrid[0:9,0:6].T.reshape(-1,2)  \n",
    "    \n",
    "    # Arrays to store object points and image points from all the images.\n",
    "    objpoints = [] # 3d points in real world space\n",
    "    imgpoints = [] # 2d points in image plane.\n",
    "\n",
    "    # Step through the list and search for chessboard corners\n",
    "    for fname in imgfiles:\n",
    "        img = cv2.imread(fname)\n",
    "        gray = cv2.cvtColor(img,cv2.COLOR_BGR2GRAY)\n",
    "\n",
    "        # Find the chessboard corners\n",
    "        ret, corners = cv2.findChessboardCorners(gray, (9,6),None)  # corners are 9 x 6 = 54 coordinates\n",
    "        # If found, add object points, image points\n",
    "        if ret == True:\n",
    "            objpoints.append(objp)\n",
    "            imgpoints.append(corners)\n",
    "\n",
    "    ret, mtx, dist, rvecs, tvecs = cv2.calibrateCamera(objpoints, imgpoints, \n",
    "                                                gray.shape[::-1], None, None)\n",
    "    \n",
    "    return mtx, dist\n",
    "\n",
    "mtx, dist = camera_calibration(imgfiles)"
   ]
  },
  {
   "cell_type": "markdown",
   "metadata": {},
   "source": [
    "## Apply a distortion correction to raw images."
   ]
  },
  {
   "cell_type": "code",
   "execution_count": 2,
   "metadata": {},
   "outputs": [
    {
     "name": "stdout",
     "output_type": "stream",
     "text": [
      "Using matplotlib backend: Qt4Agg\n"
     ]
    }
   ],
   "source": [
    "%matplotlib auto\n",
    "# undistort image with camera calibration mtx, dist\n",
    "def undistort(img,mtx, dist):\n",
    "    undist = cv2.undistort(img, mtx, dist, None, mtx)\n",
    "    return undist\n",
    "\n",
    "img = cv2.imread('camera_cal/calibration1.jpg')\n",
    "undist = undistort(img, mtx, dist)\n",
    "\n",
    "f, (ax1, ax2) = plt.subplots(1, 2, figsize=(24, 9))\n",
    "f.tight_layout()\n",
    "ax1.imshow(img)\n",
    "ax1.set_title('Original Image')\n",
    "ax2.imshow(undist)\n",
    "ax2.set_title('Undistorted Image')\n",
    "plt.subplots_adjust(left=0., right=1, top=0.9, bottom=0.)"
   ]
  },
  {
   "cell_type": "markdown",
   "metadata": {},
   "source": [
    "## Use color transforms, gradients, etc., to create a thresholded binary image."
   ]
  },
  {
   "cell_type": "code",
   "execution_count": 3,
   "metadata": {},
   "outputs": [],
   "source": [
    "# define color and x-gradient filter\n",
    "def image_filter(img, s_thresh=(180, 255), sx_thresh=(20, 100)):\n",
    "    img = np.copy(img)\n",
    "    # Convert to HLS color space and filter image by threshold\n",
    "    gray = cv2.cvtColor(img, cv2.COLOR_RGB2GRAY)\n",
    "    hls = cv2.cvtColor(img, cv2.COLOR_RGB2HLS)\n",
    "    h_channel = hls[:,:,0]\n",
    "    l_channel = hls[:,:,1]\n",
    "    s_channel = hls[:,:,2]\n",
    "    # Sobel x\n",
    "    sobelx = cv2.Sobel(gray, cv2.CV_64F, 1, 0) # Take the derivative in x\n",
    "    abs_sobelx = np.absolute(sobelx) # Absolute x derivative to accentuate lines away from horizontal\n",
    "    scaled_sobel = np.uint8(255*abs_sobelx/np.max(abs_sobelx))\n",
    "    \n",
    "    # Threshold x gradient\n",
    "    sxbinary = np.zeros_like(scaled_sobel)\n",
    "    sxbinary[(scaled_sobel >= sx_thresh[0]) & (scaled_sobel <= sx_thresh[1])] = 1\n",
    "    \n",
    "    # Threshold color channel\n",
    "    s_th = (s_channel >= s_thresh[0]) & (s_channel <= s_thresh[1])\n",
    "    h_th = (h_channel > 20) & (h_channel < 40)\n",
    "    s_binary = np.zeros_like(s_channel)\n",
    "    s_binary[s_th & h_th] = 1\n",
    "    #s_binary[(s_channel >= s_thresh[0]) & (s_channel <= s_thresh[1])] = 1\n",
    "    # Stack each channel,gradient output in green, color output in blue channel\n",
    "    # color_binary = np.dstack(( np.zeros_like(sxbinary), sxbinary, s_binary)) * 255\n",
    "    combined = np.zeros_like(s_binary)\n",
    "    combined[ (sxbinary == 1) | (s_binary == 1) ] = 1\n",
    "    return combined\n",
    "\n",
    "undist = mpimg.imread('output_images/straight_lines1.jpg')\n",
    "combined = image_filter(undist)\n",
    "# cv2.imwrite('output_images/binary_combined.jpg',filtered)\n",
    "# Plot the result\n",
    "f, (ax1, ax2) = plt.subplots(1, 2, figsize=(24, 9))\n",
    "f.tight_layout()\n",
    "\n",
    "ax1.imshow(undist)\n",
    "ax1.set_title('Undistorted Image', fontsize=40)\n",
    "\n",
    "ax2.imshow(combined,cmap='gray')\n",
    "# plt.savefig('output_images/binary_combined.jpg')\n",
    "ax2.set_title('Binary threshold Image', fontsize=40)\n",
    "plt.subplots_adjust(left=0.02, right=1, top=0.9, bottom=0.)"
   ]
  },
  {
   "cell_type": "markdown",
   "metadata": {},
   "source": [
    "## Apply ROI to binary image"
   ]
  },
  {
   "cell_type": "code",
   "execution_count": 4,
   "metadata": {},
   "outputs": [
    {
     "data": {
      "text/plain": [
       "<matplotlib.image.AxesImage at 0x7f63f8421be0>"
      ]
     },
     "execution_count": 4,
     "metadata": {},
     "output_type": "execute_result"
    }
   ],
   "source": [
    "def region_mask(img):\n",
    "    mask = np.zeros_like(img)\n",
    "    h,w = mask.shape[0],mask.shape[1]\n",
    "\n",
    "    vertices = np.array([[(0.45*w-50,h*0.65),(0.55*w+50,h*0.65),(w*0.85+150, h),(w*0.15-150,h)]],dtype=np.int32)\n",
    "    cv2.fillPoly(mask,vertices,1)\n",
    "    masked = cv2.bitwise_and(img,mask)\n",
    "    return masked\n",
    "\n",
    "masked = region_mask(combined)\n",
    "f = plt.figure(figsize=(24,9))\n",
    "plt.imshow(masked,cmap='gray')"
   ]
  },
  {
   "cell_type": "markdown",
   "metadata": {},
   "source": [
    "## Apply a perspective transform to rectify binary image (\"birds-eye view\")."
   ]
  },
  {
   "cell_type": "code",
   "execution_count": 5,
   "metadata": {},
   "outputs": [],
   "source": [
    "test = mpimg.imread('output_images/straight_lines1.jpg')\n",
    "imshape = img.shape\n",
    "h = imshape[0]\n",
    "w = imshape[1]\n",
    "\n",
    "# select 4 source points\n",
    "src = [[w*0.45-5,h*0.65],[w*0.55+5,h*0.65],[w*0.85+10, h],[w*0.15+10, h]]\n",
    "# lane.src = src\n",
    "# select 4 destination points\n",
    "dst = [[w*0.15,0],[w*0.85,0],[w*0.85, h],[w*0.15, h]]\n",
    "# lane.dst = dst\n",
    "'''\n",
    "\n",
    "left_top,right_top,left_bot,right_bot = get_points(masked)\n",
    "src = [left_top,right_top,right_bot,left_bot]\n",
    "print('src: \\n',src)\n",
    "dst = [[left_bot[0],0],[right_bot[0],0],[right_bot[0],h],[left_bot[0],h]]\n",
    "'''\n",
    "\n",
    "# perspective transform\n",
    "def perspective_transform(img,src,dst):\n",
    "    src = np.float32(src)\n",
    "    dst = np.float32(dst)\n",
    "    # use src, dst points to compute M\n",
    "    M = cv2.getPerspectiveTransform(src, dst)\n",
    "    # Warp an image using the perspective transform, M\n",
    "    warped = cv2.warpPerspective(img, M, (w,h), flags=cv2.INTER_LINEAR)\n",
    "    return warped\n",
    "\n",
    "def draw_lines(img,points):\n",
    "    pts = np.array(points, np.int32)\n",
    "    pts = pts.reshape((-1,1,2))\n",
    "    # print(pts)\n",
    "    cv2.polylines(img,[pts],True,(255,0,0),5)\n",
    "    return img\n",
    "\n",
    "warped = perspective_transform(test,src,dst)\n",
    "\n",
    "# draw source and destination points to tune points parameter,when setup completed, comment the draw function.\n",
    "# draw source points on undistorted image\n",
    "test_line = draw_lines(test,src)\n",
    "# draw destination points on warped image\n",
    "warped_line = draw_lines(warped,dst)\n",
    "\n",
    "# Plot the result\n",
    "f, (ax1, ax2) = plt.subplots(1, 2, figsize=(24, 9))\n",
    "f.tight_layout()\n",
    "ax1.imshow(test_line)\n",
    "ax1.set_title('Undistorted Image', fontsize=40)\n",
    "\n",
    "ax2.imshow(warped_line)\n",
    "ax2.set_title('Warped Image', fontsize=40)\n",
    "plt.subplots_adjust(left=0.02, right=1.0, top=0.9, bottom=0.)"
   ]
  },
  {
   "cell_type": "markdown",
   "metadata": {},
   "source": [
    "## Detect lane pixels and fit to find the lane boundary."
   ]
  },
  {
   "cell_type": "code",
   "execution_count": 6,
   "metadata": {},
   "outputs": [
    {
     "data": {
      "text/plain": [
       "<matplotlib.image.AxesImage at 0x7f63f829b048>"
      ]
     },
     "execution_count": 6,
     "metadata": {},
     "output_type": "execute_result"
    }
   ],
   "source": [
    "binary_warped = perspective_transform(masked,src,dst)\n",
    "def find_lane_pixels(binary_warped):\n",
    "    # Take a histogram of the bottom half of the image\n",
    "    histogram = np.sum(binary_warped[binary_warped.shape[0]//2:,:], axis=0)\n",
    "    # Create an output image to draw on and visualize the result\n",
    "    out_img = np.dstack((binary_warped, binary_warped, binary_warped))\n",
    "    # Find the peak of the left and right halves of the histogram\n",
    "    # These will be the starting point for the left and right lines\n",
    "    midpoint = np.int(histogram.shape[0]//2)\n",
    "    leftx_base = np.argmax(histogram[:midpoint])\n",
    "    #print('leftx_base: ',leftx_base)\n",
    "    rightx_base = np.argmax(histogram[midpoint:]) + midpoint \n",
    "    #print('rightx_base: ',rightx_base)\n",
    "\n",
    "    # HYPERPARAMETERS\n",
    "    # Choose the number of sliding windows\n",
    "    nwindows = 9\n",
    "    # Set the width of the windows +/- margin\n",
    "    margin = 100\n",
    "    # Set minimum number of pixels found to recenter window\n",
    "    minpix = 50\n",
    "\n",
    "    # Set height of windows - based on nwindows above and image shape\n",
    "    window_height = np.int(binary_warped.shape[0]//nwindows)\n",
    "    # Identify the x and y positions of all nonzero pixels in the image\n",
    "    nonzero = binary_warped.nonzero()\n",
    "    nonzeroy = np.array(nonzero[0])\n",
    "    nonzerox = np.array(nonzero[1])\n",
    "    \n",
    "    # Current positions to be updated later for each window in nwindows\n",
    "    leftx_current = leftx_base\n",
    "    rightx_current = rightx_base\n",
    "    \n",
    "    lane.centroid = (leftx_base+rightx_base)/2\n",
    "    lane.ym_per_pix = 30/binary_warped.shape[0]      # y dimension, transfer pix scale to real world meter scale\n",
    "    lane.xm_per_pix = 3.7/(rightx_base-leftx_base)      # x dimension, transfer pix scale to real world meter scale\n",
    "    left_line.line_base_pos = lane.xm_per_pix * (midpoint - leftx_base)\n",
    "    right_line.line_base_pos = lane.xm_per_pix * (midpoint - rightx_base)\n",
    "\n",
    "    # Create empty lists to receive left and right lane pixel indices\n",
    "    left_lane_inds = []\n",
    "    right_lane_inds = []\n",
    "\n",
    "    # Step through the windows one by one\n",
    "    for window in range(nwindows):\n",
    "        # Identify window boundaries in x and y (and right and left)\n",
    "        win_y_low = binary_warped.shape[0] - (window+1)*window_height\n",
    "        win_y_high = binary_warped.shape[0] - window*window_height\n",
    "        ### TO-DO: Find the four below boundaries of the window ###\n",
    "        win_xleft_low = leftx_current - margin  # Update this\n",
    "        win_xleft_high = leftx_current + margin  # Update this\n",
    "        win_xright_low = rightx_current - margin  # Update this\n",
    "        win_xright_high = rightx_current + margin  # Update this\n",
    "        \n",
    "        # Draw the windows on the visualization image\n",
    "        cv2.rectangle(out_img,(win_xleft_low,win_y_low),\n",
    "        (win_xleft_high,win_y_high),(0,255,0), 2) \n",
    "        cv2.rectangle(out_img,(win_xright_low,win_y_low),\n",
    "        (win_xright_high,win_y_high),(0,255,0), 2) \n",
    "        \n",
    "        ### Identify the nonzero pixels in x and y within the window ###\n",
    "        good_left_inds = ((nonzeroy >= win_y_low) & (nonzeroy < win_y_high) & \n",
    "        (nonzerox >= win_xleft_low) &  (nonzerox < win_xleft_high)).nonzero()[0] \n",
    "        good_right_inds = ((nonzeroy >= win_y_low) & (nonzeroy < win_y_high) & \n",
    "        (nonzerox >= win_xright_low) &  (nonzerox < win_xright_high)).nonzero()[0]\n",
    "        \n",
    "        # Append these indices to the lists\n",
    "        left_lane_inds.append(good_left_inds)\n",
    "        right_lane_inds.append(good_right_inds)\n",
    "        \n",
    "        ### TO-DO: If you found > minpix pixels, recenter next window ###\n",
    "        ### (`right` or `leftx_current`) on their mean position ###\n",
    "        if len(good_left_inds) > minpix:\n",
    "            leftx_current = np.int(np.mean(nonzerox[good_left_inds]))\n",
    "        if len(good_right_inds) > minpix:        \n",
    "            rightx_current = np.int(np.mean(nonzerox[good_right_inds]))\n",
    "    \n",
    "    # Concatenate the arrays of indices (previously was a list of lists of pixels)\n",
    "    try:\n",
    "        left_lane_inds = np.concatenate(left_lane_inds)\n",
    "        right_lane_inds = np.concatenate(right_lane_inds)\n",
    "    except ValueError:\n",
    "        # Avoids an error if the above is not implemented fully\n",
    "        print('ValueError: can not concatenate left and right lane indices')\n",
    "        pass\n",
    "\n",
    "    # Extract left and right line pixel positions\n",
    "    leftx = nonzerox[left_lane_inds]\n",
    "    lefty = nonzeroy[left_lane_inds] \n",
    "    rightx = nonzerox[right_lane_inds]\n",
    "    righty = nonzeroy[right_lane_inds]\n",
    "\n",
    "    return leftx, lefty, rightx, righty, out_img\n",
    "\n",
    "def fit_polynomial(binary_warped):\n",
    "    \n",
    "    # Find our lane pixels first\n",
    "    leftx, lefty, rightx, righty, out_img = find_lane_pixels(binary_warped)\n",
    "    \n",
    "    # transfer x,y position from pix scale to real world\n",
    "    leftxm = lane.xm_per_pix * leftx\n",
    "    leftym = lane.ym_per_pix * lefty\n",
    "    rightxm = lane.xm_per_pix * rightx\n",
    "    rightym = lane.ym_per_pix * righty\n",
    "\n",
    "    ### TO-DO: Fit a second order polynomial to each using `np.polyfit` ###\n",
    "    \n",
    "    left_fit = np.polyfit(lefty,leftx, 2)\n",
    "    left_fitm = np.polyfit(leftym,leftxm, 2)\n",
    "    right_fit = np.polyfit(righty,rightx,2)\n",
    "    right_fitm = np.polyfit(rightym,rightxm, 2)\n",
    "\n",
    "    # Generate x and y values for plotting\n",
    "    ploty = np.linspace(0, binary_warped.shape[0]-1, binary_warped.shape[0] )\n",
    "    try:\n",
    "        left_fitx = left_fit[0]*ploty**2 + left_fit[1]*ploty + left_fit[2]\n",
    "        right_fitx = right_fit[0]*ploty**2 + right_fit[1]*ploty + right_fit[2]\n",
    "    except TypeError:\n",
    "        # Avoids an error if `left` and `right_fit` are still none or incorrect\n",
    "        print('The function failed to fit a line!')\n",
    "        left_fitx = 1*ploty**2 + 1*ploty\n",
    "        right_fitx = 1*ploty**2 + 1*ploty\n",
    "\n",
    "    ## Visualization ##\n",
    "    # Colors in the left and right lane regions\n",
    "    out_img[lefty, leftx] = [255, 0, 0]\n",
    "    out_img[righty, rightx] = [0, 0, 255]\n",
    "    \n",
    "    pts_left = np.array([np.transpose(np.vstack([left_fitx, ploty]))])\n",
    "    pts_right = np.array([np.flipud(np.transpose(np.vstack([right_fitx, ploty])))])\n",
    "    pts = np.hstack((pts_left, pts_right))\n",
    "    cv2.polylines(out_img,np.int_([pts]),True,(255,255,0),2)\n",
    "    \n",
    "    # left_line.detected = True\n",
    "    # right_line.detected = True\n",
    "    left_line.current_fit = left_fit\n",
    "    left_line.current_fitm = left_fitm\n",
    "    right_line.current_fit = right_fit\n",
    "    right_line.current_fitm = right_fitm\n",
    "    left_line.recent_xfitted.append(left_fitx)\n",
    "    right_line.recent_xfitted.append(right_fitx)\n",
    "    \n",
    "    return out_img,ploty,left_fitx,right_fitx\n",
    "\n",
    "out_img,ploty,left_fitx,right_fitx = fit_polynomial(binary_warped)\n",
    "\n",
    "# Plot the result\n",
    "f = plt.figure(figsize=(24,9))\n",
    "plt.imshow(out_img)"
   ]
  },
  {
   "cell_type": "markdown",
   "metadata": {},
   "source": [
    "## Determine the curvature of the lane and vehicle position with respect to center."
   ]
  },
  {
   "cell_type": "code",
   "execution_count": 7,
   "metadata": {},
   "outputs": [
    {
     "name": "stdout",
     "output_type": "stream",
     "text": [
      "average_curverad:  45706.2593102692\n",
      "vehicle offset:  0.041294642857142905\n"
     ]
    }
   ],
   "source": [
    "def measure_curvature_pixels(ploty,left_fit, right_fit):\n",
    "    '''\n",
    "    Calculates the curvature of polynomial functions in pixels.\n",
    "    '''\n",
    "    \n",
    "    # Define y-value where we want radius of curvature\n",
    "    # We'll choose the maximum y-value, corresponding to the bottom of the image\n",
    "    y_eval = np.max(ploty)\n",
    "    \n",
    "    ##### TO-DO: Implement the calculation of R_curve (radius of curvature) #####\n",
    "    left_curverad = ((1+(2*left_fit[0]*y_eval + left_fit[1])**2)**(3/2))/np.abs(2*left_fit[0])  ## Implement the calculation of the left line here\n",
    "    right_curverad = ((1+(2*right_fit[0]*y_eval + right_fit[1])**2)**(3/2))/np.abs(2*right_fit[0])  ## Implement the calculation of the right line here\n",
    "    \n",
    "    return left_curverad, right_curverad\n",
    "\n",
    "def measure_curvature_meters(ploty,left_fit, right_fit):\n",
    "    '''\n",
    "    Calculates the curvature of polynomial functions in pixels.\n",
    "    '''\n",
    "    \n",
    "    # Define y-value where we want radius of curvature\n",
    "    # We'll choose the maximum y-value, corresponding to the bottom of the image\n",
    "    y_eval = np.max(ploty)\n",
    "    ##### TO-DO: Implement the calculation of R_curve (radius of curvature) #####\n",
    "    left_curverad = ((1+(2*left_fit[0]*y_eval + left_fit[1])**2)**(3/2))/np.abs(2*left_fit[0])  ## Implement the calculation of the left line here\n",
    "    right_curverad = ((1+(2*right_fit[0]*y_eval + right_fit[1])**2)**(3/2))/np.abs(2*right_fit[0])  ## Implement the calculation of the right line here\n",
    "    left_line.radius_of_curvature = left_curverad\n",
    "    right_line.radius_of_curvature = right_curverad\n",
    "    average_curverad = (left_curverad + right_curverad)/2\n",
    "    \n",
    "    return average_curverad\n",
    "    \n",
    "left_fitm = left_line.current_fitm\n",
    "right_fitm = right_line.current_fitm\n",
    "ploty = np.linspace(0, binary_warped.shape[0]-1, binary_warped.shape[0] )\n",
    "plotym = lane.ym_per_pix * ploty\n",
    "average_curverad = measure_curvature_meters(plotym,left_fitm, right_fitm)\n",
    "offset = (left_line.line_base_pos + right_line.line_base_pos)/2\n",
    "print('average_curverad: ',average_curverad)\n",
    "print('vehicle offset: ', offset)\n",
    "\n",
    "# left_curverad, right_curverad = measure_curvature_pixels(ploty,left_fit, right_fit)\n",
    "# print(left_curverad, right_curverad)"
   ]
  },
  {
   "cell_type": "markdown",
   "metadata": {},
   "source": [
    "## Warp the detected lane boundaries back onto the original image."
   ]
  },
  {
   "cell_type": "code",
   "execution_count": 8,
   "metadata": {},
   "outputs": [
    {
     "data": {
      "text/plain": [
       "<matplotlib.image.AxesImage at 0x7f63f8276c88>"
      ]
     },
     "execution_count": 8,
     "metadata": {},
     "output_type": "execute_result"
    }
   ],
   "source": [
    "# Create an image to draw the lines on\n",
    "def draw_back(undist,binary_warped,src,dst,ploty,left_fitx,right_fitx):\n",
    "    warp_zero = np.zeros_like(binary_warped).astype(np.uint8)\n",
    "    color_warp = np.dstack((warp_zero, warp_zero, warp_zero))\n",
    "\n",
    "    # Recast the x and y points into usable format for cv2.fillPoly()\n",
    "    pts_left = np.array([np.transpose(np.vstack([left_fitx, ploty]))])\n",
    "    pts_right = np.array([np.flipud(np.transpose(np.vstack([right_fitx, ploty])))])\n",
    "    pts = np.hstack((pts_left, pts_right))\n",
    "\n",
    "    # Draw the lane onto the warped blank image\n",
    "    cv2.fillPoly(color_warp, np.int_([pts]), (0,255, 0))\n",
    "\n",
    "    src = np.float32(src)\n",
    "    dst = np.float32(dst)\n",
    "    \n",
    "    # compute inverse M transformation martix\n",
    "    Minv = cv2.getPerspectiveTransform(dst, src)\n",
    "    # Warp the blank back to original image space using inverse perspective matrix (Minv)\n",
    "    newwarp = cv2.warpPerspective(color_warp, Minv, (img.shape[1], img.shape[0])) \n",
    "    # Combine the result with the original image\n",
    "    result = cv2.addWeighted(undist, 1, newwarp, 0.3, 0)\n",
    "    return result\n",
    "\n",
    "left_fitx = left_line.recent_xfitted\n",
    "right_fitx = right_line.recent_xfitted\n",
    "result = draw_back(undist,binary_warped,src,dst,ploty,left_fitx,right_fitx)\n",
    "# plot the result\n",
    "f = plt.figure(figsize=(24,9))\n",
    "plt.imshow(result)"
   ]
  },
  {
   "cell_type": "markdown",
   "metadata": {},
   "source": [
    "## search around previously polynomial fit"
   ]
  },
  {
   "cell_type": "code",
   "execution_count": 9,
   "metadata": {},
   "outputs": [
    {
     "data": {
      "text/plain": [
       "<matplotlib.image.AxesImage at 0x7f63f84aa860>"
      ]
     },
     "execution_count": 9,
     "metadata": {},
     "output_type": "execute_result"
    }
   ],
   "source": [
    "def fit_poly(img_shape, leftx, lefty, rightx, righty):\n",
    "    ### TO-DO: Fit a second order polynomial to each with np.polyfit() ###\n",
    "    if (len(leftx)>0) & (len(lefty)>0) & (len(rightx)>0) & (len(righty)>0):\n",
    "        # print('refit with new found x, y')\n",
    "        \n",
    "        # transfer x,y position from pix scale to real world\n",
    "        leftxm = lane.xm_per_pix * leftx\n",
    "        leftym = lane.ym_per_pix * lefty\n",
    "        rightxm = lane.xm_per_pix * rightx\n",
    "        rightym = lane.ym_per_pix * righty\n",
    "        \n",
    "        left_fit = np.polyfit(lefty,leftx, 2)\n",
    "        right_fit = np.polyfit(righty,rightx, 2)\n",
    "        left_fitm = np.polyfit(leftym,leftxm, 2)\n",
    "        right_fitm = np.polyfit(rightym,rightxm, 2)\n",
    "        \n",
    "        # update left_fitx, right_fitx,,left_fit,right_fit\n",
    "        left_line.current_fit = left_fit\n",
    "        left_line.current_fitm = left_fitm\n",
    "        right_line.current_fit = right_fit\n",
    "        right_line.current_fitm = right_fitm\n",
    "        left_line.line_base_pos = lane.xm_per_pix * (img_shape[1]/2 - leftx[-1])\n",
    "        right_line.line_base_pos = lane.xm_per_pix * (img_shape[1]/2 - rightx[-1])\n",
    "        \n",
    "    else:\n",
    "        # print('x, y not found')\n",
    "        left_fit = left_line.current_fit\n",
    "        right_fit = right_line.current_fit\n",
    "    # Generate x and y values for plotting\n",
    "    ploty = np.linspace(0, img_shape[0]-1, img_shape[0])\n",
    "    ### TO-DO: Calc both polynomials using ploty, left_fit and right_fit ###\n",
    "    left_fitx = left_fit[0]*(ploty**2) + left_fit[1]*ploty + left_fit[2]\n",
    "    right_fitx = right_fit[0]*(ploty**2) + right_fit[1]*ploty + right_fit[2]\n",
    "    \n",
    "    left_line.recent_xfitted.append(left_fitx)\n",
    "    right_line.recent_xfitted.append(right_fitx)\n",
    "    \n",
    "    return left_fitx, right_fitx, ploty,left_fit,right_fit\n",
    "\n",
    "def search_around_poly(binary_warped):\n",
    "    # HYPERPARAMETER\n",
    "    # Choose the width of the margin around the previous polynomial to search\n",
    "    margin = 100\n",
    "\n",
    "    # Grab activated pixels\n",
    "    nonzero = binary_warped.nonzero()\n",
    "    nonzeroy = np.array(nonzero[0])\n",
    "    nonzerox = np.array(nonzero[1])\n",
    "    \n",
    "    ### TO-DO: Set the area of search based on activated x-values ###\n",
    "    ### within the +/- margin of our polynomial function ###\n",
    "    ### Hint: consider the window areas for the similarly named variables ###\n",
    "    ### in the previous quiz, but change the windows to our new search area ###\n",
    "    left_fit = left_line.current_fit\n",
    "    right_fit = right_line.current_fit\n",
    "    left_lane_inds = ((nonzerox > (left_fit[0]*(nonzeroy**2) + left_fit[1]*nonzeroy + \n",
    "                    left_fit[2] - margin)) & (nonzerox < (left_fit[0]*(nonzeroy**2) + \n",
    "                    left_fit[1]*nonzeroy + left_fit[2] + margin)))\n",
    "    right_lane_inds = ((nonzerox > (right_fit[0]*(nonzeroy**2) + right_fit[1]*nonzeroy + \n",
    "                    right_fit[2] - margin)) & (nonzerox < (right_fit[0]*(nonzeroy**2) + \n",
    "                    right_fit[1]*nonzeroy + right_fit[2] + margin)))\n",
    "    \n",
    "    # Again, extract left and right line pixel positions\n",
    "    leftx = nonzerox[left_lane_inds]\n",
    "    lefty = nonzeroy[left_lane_inds] \n",
    "    rightx = nonzerox[right_lane_inds]\n",
    "    righty = nonzeroy[right_lane_inds]\n",
    "\n",
    "    # Fit new polynomials\n",
    "    left_fitx,right_fitx,ploty,left_fit,right_fit = fit_poly(binary_warped.shape, leftx, lefty, rightx, righty)    \n",
    "    \n",
    "    ## Visualization ##\n",
    "    # Create an image to draw on and an image to show the selection window\n",
    "    out_img = np.dstack((binary_warped, binary_warped, binary_warped))*255\n",
    "    window_img = np.zeros_like(out_img)\n",
    "    # Color in left and right line pixels\n",
    "    out_img[nonzeroy[left_lane_inds], nonzerox[left_lane_inds]] = [255, 0, 0]\n",
    "    out_img[nonzeroy[right_lane_inds], nonzerox[right_lane_inds]] = [0, 0, 255]\n",
    "\n",
    "    # Generate a polygon to illustrate the search window area\n",
    "    # And recast the x and y points into usable format for cv2.fillPoly()\n",
    "    left_line_window1 = np.array([np.transpose(np.vstack([left_fitx-margin, ploty]))])\n",
    "    left_line_window2 = np.array([np.flipud(np.transpose(np.vstack([left_fitx+margin, \n",
    "                              ploty])))])\n",
    "    left_line_pts = np.hstack((left_line_window1, left_line_window2))\n",
    "    right_line_window1 = np.array([np.transpose(np.vstack([right_fitx-margin, ploty]))])\n",
    "    right_line_window2 = np.array([np.flipud(np.transpose(np.vstack([right_fitx+margin, \n",
    "                              ploty])))])\n",
    "    right_line_pts = np.hstack((right_line_window1, right_line_window2))\n",
    "\n",
    "    # Draw the lane onto the warped blank image\n",
    "    cv2.fillPoly(window_img, np.int_([left_line_pts]), (0,255, 0))\n",
    "    cv2.fillPoly(window_img, np.int_([right_line_pts]), (0,255, 0))\n",
    "    result = cv2.addWeighted(out_img, 1, window_img, 0.3, 0)\n",
    "    \n",
    "    # Plot the polynomial lines onto the image\n",
    "    \n",
    "    pts_left = np.array([np.transpose(np.vstack([left_fitx, ploty]))])\n",
    "    pts_right = np.array([np.flipud(np.transpose(np.vstack([right_fitx, ploty])))])\n",
    "    pts = np.hstack((pts_left, pts_right))\n",
    "    cv2.polylines(result,np.int_([pts]),True,(255,255,0),2)\n",
    "    \n",
    "    ## End visualization steps ##\n",
    "    \n",
    "    return result,ploty,left_fitx,right_fitx\n",
    "\n",
    "# Run image through the pipeline\n",
    "# Note that in your project, you'll also want to feed in the previous fits\n",
    "out_img,ploty,left_fitx,right_fitx = search_around_poly(binary_warped)\n",
    "\n",
    "# View your output\n",
    "f = plt.figure(figsize=(24,9))\n",
    "plt.imshow(out_img)"
   ]
  },
  {
   "cell_type": "code",
   "execution_count": 10,
   "metadata": {},
   "outputs": [],
   "source": [
    "def pipeline(img):\n",
    "    undist = undistort(img,mtx, dist)\n",
    "    combined = image_filter(undist)\n",
    "    masked = region_mask(combined)\n",
    "    binary_warped = perspective_transform(masked,src,dst)\n",
    "    if (left_line.detected == False) | (right_line.detected == False): \n",
    "        out_img,ploty,left_fitx,right_fitx = fit_polynomial(binary_warped)\n",
    "        left_line.detected = True\n",
    "        right_line.detected = True\n",
    "    else:\n",
    "        out_img,ploty,left_fitx,right_fitx = search_around_poly(binary_warped) \n",
    "        \n",
    "    result = draw_back(undist,binary_warped,src,dst,ploty,left_fitx,right_fitx)\n",
    "    \n",
    "    plotym = lane.ym_per_pix * ploty\n",
    "    average_curverad = measure_curvature_meters(plotym,left_line.current_fitm, right_line.current_fitm)\n",
    "    offset = (left_line.line_base_pos + right_line.line_base_pos)/2\n",
    "    shift = 'right '\n",
    "    if offset <0:\n",
    "        shift = 'left '\n",
    "        offset = -offset\n",
    "        \n",
    "    cv2.putText(result,'Radius of Curvature: '+str(round(average_curverad))+' (m)',(50,50),\n",
    "                cv2.FONT_HERSHEY_SIMPLEX,1,(255,255,255),thickness=2)\n",
    "    cv2.putText(result,'Vehicle is ' + str(round(offset,2))+'m '+shift+'of center',\n",
    "            (50,100),cv2.FONT_HERSHEY_SIMPLEX,1,(255,255,255),thickness=2)\n",
    "    \n",
    "    return result"
   ]
  },
  {
   "cell_type": "code",
   "execution_count": 11,
   "metadata": {},
   "outputs": [
    {
     "name": "stdout",
     "output_type": "stream",
     "text": [
      "[MoviePy] >>>> Building video output_videos/project_video.mp4\n",
      "[MoviePy] Writing video output_videos/project_video.mp4\n"
     ]
    },
    {
     "name": "stderr",
     "output_type": "stream",
     "text": [
      "100%|█████████▉| 1260/1261 [01:57<00:00, 10.73it/s]\n"
     ]
    },
    {
     "name": "stdout",
     "output_type": "stream",
     "text": [
      "[MoviePy] Done.\n",
      "[MoviePy] >>>> Video ready: output_videos/project_video.mp4 \n",
      "\n",
      "CPU times: user 10min 7s, sys: 1.78 s, total: 10min 9s\n",
      "Wall time: 1min 57s\n"
     ]
    }
   ],
   "source": [
    "# Import everything needed to edit/save/watch video clips\n",
    "from moviepy.editor import VideoFileClip\n",
    "from moviepy.editor import *\n",
    "from IPython.display import HTML\n",
    "\n",
    "project_video_output = 'output_videos/project_video.mp4'\n",
    "## To speed up the testing process you may want to try your pipeline on a shorter subclip of the video\n",
    "## To do so add .subclip(start_second,end_second) to the end of the line below\n",
    "## Where start_second and end_second are integer values representing the start and end of the subclip\n",
    "## You may also uncomment the following line for a subclip of the first 5 seconds\n",
    "##clip1 = VideoFileClip(\"test_videos/solidWhiteRight.mp4\").subclip(0,5)\n",
    "\n",
    "clip1 = VideoFileClip(\"project_video.mp4\")\n",
    "output_clip = clip1.fl_image(pipeline) #NOTE: this function expects color images!!\n",
    "%time output_clip.write_videofile(project_video_output, audio=False)"
   ]
  },
  {
   "cell_type": "code",
   "execution_count": 12,
   "metadata": {},
   "outputs": [
    {
     "data": {
      "text/html": [
       "\n",
       "<video width=\"960\" height=\"540\" controls>\n",
       "  <source src=\"output_videos/project_video.mp4\">\n",
       "</video>\n"
      ],
      "text/plain": [
       "<IPython.core.display.HTML object>"
      ]
     },
     "execution_count": 12,
     "metadata": {},
     "output_type": "execute_result"
    }
   ],
   "source": [
    "HTML(\"\"\"\n",
    "<video width=\"960\" height=\"540\" controls>\n",
    "  <source src=\"{0}\">\n",
    "</video>\n",
    "\"\"\".format(project_video_output))"
   ]
  },
  {
   "cell_type": "markdown",
   "metadata": {},
   "source": [
    "### try challenge_video"
   ]
  },
  {
   "cell_type": "code",
   "execution_count": 13,
   "metadata": {},
   "outputs": [
    {
     "name": "stdout",
     "output_type": "stream",
     "text": [
      "[MoviePy] >>>> Building video output_videos/challenge_video.mp4\n",
      "[MoviePy] Writing video output_videos/challenge_video.mp4\n"
     ]
    },
    {
     "name": "stderr",
     "output_type": "stream",
     "text": [
      "100%|██████████| 485/485 [00:41<00:00, 11.71it/s]\n"
     ]
    },
    {
     "name": "stdout",
     "output_type": "stream",
     "text": [
      "[MoviePy] Done.\n",
      "[MoviePy] >>>> Video ready: output_videos/challenge_video.mp4 \n",
      "\n",
      "CPU times: user 3min 43s, sys: 730 ms, total: 3min 44s\n",
      "Wall time: 41.8 s\n"
     ]
    }
   ],
   "source": [
    "challenge_video_output = 'output_videos/challenge_video.mp4'\n",
    "## To speed up the testing process you may want to try your pipeline on a shorter subclip of the video\n",
    "## To do so add .subclip(start_second,end_second) to the end of the line below\n",
    "## Where start_second and end_second are integer values representing the start and end of the subclip\n",
    "## You may also uncomment the following line for a subclip of the first 5 seconds\n",
    "##clip1 = VideoFileClip(\"test_videos/solidWhiteRight.mp4\").subclip(0,5)\n",
    "\n",
    "clip1 = VideoFileClip(\"challenge_video.mp4\")\n",
    "output_clip = clip1.fl_image(pipeline) #NOTE: this function expects color images!!\n",
    "%time output_clip.write_videofile(challenge_video_output, audio=False)"
   ]
  },
  {
   "cell_type": "code",
   "execution_count": 14,
   "metadata": {},
   "outputs": [
    {
     "data": {
      "text/html": [
       "\n",
       "<video width=\"960\" height=\"540\" controls>\n",
       "  <source src=\"output_videos/challenge_video.mp4\">\n",
       "</video>\n"
      ],
      "text/plain": [
       "<IPython.core.display.HTML object>"
      ]
     },
     "execution_count": 14,
     "metadata": {},
     "output_type": "execute_result"
    }
   ],
   "source": [
    "HTML(\"\"\"\n",
    "<video width=\"960\" height=\"540\" controls>\n",
    "  <source src=\"{0}\">\n",
    "</video>\n",
    "\"\"\".format(challenge_video_output))"
   ]
  },
  {
   "cell_type": "markdown",
   "metadata": {},
   "source": [
    "## try harder_challenger_video"
   ]
  },
  {
   "cell_type": "code",
   "execution_count": 15,
   "metadata": {},
   "outputs": [
    {
     "name": "stdout",
     "output_type": "stream",
     "text": [
      "[MoviePy] >>>> Building video output_videos/harder_challenge_video.mp4\n",
      "[MoviePy] Writing video output_videos/harder_challenge_video.mp4\n"
     ]
    },
    {
     "name": "stderr",
     "output_type": "stream",
     "text": [
      "100%|█████████▉| 1199/1200 [02:05<00:00,  9.13it/s]\n"
     ]
    },
    {
     "name": "stdout",
     "output_type": "stream",
     "text": [
      "[MoviePy] Done.\n",
      "[MoviePy] >>>> Video ready: output_videos/harder_challenge_video.mp4 \n",
      "\n",
      "CPU times: user 10min 57s, sys: 1.59 s, total: 10min 58s\n",
      "Wall time: 2min 5s\n"
     ]
    }
   ],
   "source": [
    "harder_challenge_video_output = 'output_videos/harder_challenge_video.mp4'\n",
    "## To speed up the testing process you may want to try your pipeline on a shorter subclip of the video\n",
    "## To do so add .subclip(start_second,end_second) to the end of the line below\n",
    "## Where start_second and end_second are integer values representing the start and end of the subclip\n",
    "## You may also uncomment the following line for a subclip of the first 5 seconds\n",
    "##clip1 = VideoFileClip(\"test_videos/solidWhiteRight.mp4\").subclip(0,5)\n",
    "\n",
    "clip1 = VideoFileClip(\"harder_challenge_video.mp4\")\n",
    "output_clip = clip1.fl_image(pipeline) #NOTE: this function expects color images!!\n",
    "%time output_clip.write_videofile(harder_challenge_video_output, audio=False)"
   ]
  },
  {
   "cell_type": "code",
   "execution_count": 16,
   "metadata": {},
   "outputs": [
    {
     "data": {
      "text/html": [
       "\n",
       "<video width=\"960\" height=\"540\" controls>\n",
       "  <source src=\"output_videos/harder_challenge_video.mp4\">\n",
       "</video>\n"
      ],
      "text/plain": [
       "<IPython.core.display.HTML object>"
      ]
     },
     "execution_count": 16,
     "metadata": {},
     "output_type": "execute_result"
    }
   ],
   "source": [
    "HTML(\"\"\"\n",
    "<video width=\"960\" height=\"540\" controls>\n",
    "  <source src=\"{0}\">\n",
    "</video>\n",
    "\"\"\".format(harder_challenge_video_output))"
   ]
  },
  {
   "cell_type": "code",
   "execution_count": null,
   "metadata": {},
   "outputs": [],
   "source": []
  }
 ],
 "metadata": {
  "anaconda-cloud": {},
  "kernelspec": {
   "display_name": "carnd-term1",
   "language": "python",
   "name": "myenv"
  },
  "language_info": {
   "codemirror_mode": {
    "name": "ipython",
    "version": 3
   },
   "file_extension": ".py",
   "mimetype": "text/x-python",
   "name": "python",
   "nbconvert_exporter": "python",
   "pygments_lexer": "ipython3",
   "version": "3.5.2"
  },
  "widgets": {
   "state": {},
   "version": "1.1.2"
  }
 },
 "nbformat": 4,
 "nbformat_minor": 1
}
